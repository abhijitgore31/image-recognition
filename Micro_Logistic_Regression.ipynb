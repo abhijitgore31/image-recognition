{
 "cells": [
  {
   "cell_type": "code",
   "execution_count": 6,
   "id": "9062c56a",
   "metadata": {},
   "outputs": [
    {
     "name": "stdout",
     "output_type": "stream",
     "text": [
      "Accuracy: 0.919047619047619\n",
      "Precision: [1.         0.83870968 0.88461538 1.         1.         1.\n",
      " 0.73529412]\n",
      "Recall: [0.96666667 0.86666667 0.76666667 1.         1.         1.\n",
      " 0.83333333]\n",
      "Prediction =  ['SKY']\n"
     ]
    },
    {
     "data": {
      "image/png": "[encoded data removed]",
      "text/plain": [
       "<Figure size 432x288 with 2 Axes>"
      ]
     },
     "metadata": {
      "needs_background": "light"
     },
     "output_type": "display_data"
    }
   ],
   "source": [
    "#import pandas \n",
    "import pandas as pd \n",
    "from sklearn import preprocessing \n",
    "from sklearn.linear_model import LogisticRegression\n",
    "\n",
    "from sklearn.model_selection import train_test_split \n",
    "# load dataset \n",
    "\n",
    "data_test = pd.read_csv('Test_Data.csv')\n",
    "data_train = pd.read_csv('Train_Data.csv')\n",
    "data_test.head();\n",
    "data_train.head();\n",
    "\n",
    "\n",
    "#split dataset in features and target variable \n",
    "#  split X and y into training and testing sets \n",
    "X_train = data_train.iloc[:,1:20 ].values\n",
    "X_test=data_test.iloc[:,1:20].values\n",
    "y_train = data_train.iloc[:,0].values\n",
    "y_test=data_test.iloc[:,0].values\n",
    "\n",
    "\n",
    "\n",
    "from sklearn import preprocessing\n",
    "# Use of feature scaling for quick convergence \n",
    "# You may use minmax scaler or standard scaler \n",
    "#min_max_scaler = preprocessing.MinMaxScaler() \n",
    "# Using standard scaler for feature scaling \n",
    "scaler = preprocessing.StandardScaler().fit(X_train) \n",
    "scaler1 = preprocessing.StandardScaler().fit(X_test) \n",
    "X_train_standard = scaler.fit_transform(X_train) \n",
    "X_test_standard = scaler1.transform(X_test) \n",
    "\n",
    "\n",
    "\n",
    "# X_train_standard=preprocessing.normalize(X_train)\n",
    "# X_test_standard=preprocessing.normalize(X_test)\n",
    "\n",
    "\n",
    "\n",
    "\n",
    "# import the class \n",
    "from sklearn.linear_model import LogisticRegression \n",
    "# instantiate the model (using the default parameters) \n",
    "logreg = LogisticRegression(solver='lbfgs', max_iter=1000)\n",
    "# fit the model with data \n",
    "logreg.fit(X_train_standard,y_train) \n",
    "# Predict output for test set \n",
    "y_pred=logreg.predict(X_test_standard) \n",
    "\n",
    "\n",
    "# import the metrics class \n",
    "from sklearn import metrics \n",
    "cnf_matrix = metrics.confusion_matrix(y_test, y_pred) \n",
    "cnf_matrix \n",
    "import numpy as np \n",
    "import matplotlib.pyplot as plt \n",
    "import seaborn as sns \n",
    "%matplotlib inline \n",
    "class_names=['BRICKFACE','FOLIAGE','SKY','CEMENT','WINDOW','PATH','GRASS'] # name of classes \n",
    "fig, ax = plt.subplots() \n",
    "tick_marks = np.arange(len(class_names)) \n",
    "plt.xticks(tick_marks, class_names) \n",
    "plt.yticks(tick_marks, class_names) \n",
    "\n",
    "\n",
    "# create heatmap \n",
    "sns.heatmap(pd.DataFrame(cnf_matrix), annot=True, cmap=\"YlGnBu\" ,fmt='g')\n",
    "ax.xaxis.set_label_position(\"top\") \n",
    "plt.tight_layout() \n",
    "plt.title('Confusion matrix', y=1.1) \n",
    "plt.ylabel('Actual label') \n",
    "plt.xlabel('Predicted label') \n",
    "\n",
    "\n",
    "print(\"Accuracy:\",metrics.accuracy_score(y_test, y_pred))\n",
    "print(\"Precision:\",metrics.precision_score(y_test, y_pred,average=None)) \n",
    "print(\"Recall:\",metrics.recall_score(y_test, y_pred,average=None)) \n",
    "# Predict output for some unknown sample of the patient  \n",
    "test_X = np.array([44,79,9,0,0,0.444444,0.34426486,0.7777786,0.4036864,107.74074,93.888885,126.55556,102.77778,-41.555557,56.444443,-14.888889,126.55556,0.2580791,-2.3779652]) \n",
    "test_X_standard = scaler1.transform(test_X.reshape(1, -1)) \n",
    "pred_y = logreg.predict(test_X_standard) \n",
    "print(\"Prediction = \", pred_y) \n",
    "\n"
   ]
  },
  {
   "cell_type": "code",
   "execution_count": null,
   "id": "4795d838",
   "metadata": {},
   "outputs": [],
   "source": []
  },
  {
   "cell_type": "code",
   "execution_count": null,
   "id": "ff300550",
   "metadata": {},
   "outputs": [],
   "source": []
  }
 ],
 "metadata": {
  "kernelspec": {
   "display_name": "Python 3 (ipykernel)",
   "language": "python",
   "name": "python3"
  },
  "language_info": {
   "codemirror_mode": {
    "name": "ipython",
    "version": 3
   },
   "file_extension": ".py",
   "mimetype": "text/x-python",
   "name": "python",
   "nbconvert_exporter": "python",
   "pygments_lexer": "ipython3",
   "version": "3.9.7"
  }
 },
 "nbformat": 4,
 "nbformat_minor": 5
}
